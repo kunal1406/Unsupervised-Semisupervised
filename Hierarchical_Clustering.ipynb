{
 "cells": [
  {
   "cell_type": "code",
   "execution_count": 1,
   "id": "d565cd08",
   "metadata": {},
   "outputs": [],
   "source": [
    "import numpy as np\n",
    "import pandas as pd"
   ]
  },
  {
   "attachments": {},
   "cell_type": "markdown",
   "id": "60451fc4",
   "metadata": {},
   "source": [
    "### Implemented hierarchical agglomerative clustering for this dataset. Implemented single (minimum) linkage, complete (maximum) linkage and average (mean) linkage."
   ]
  },
  {
   "cell_type": "code",
   "execution_count": 2,
   "id": "0a904b16",
   "metadata": {},
   "outputs": [],
   "source": [
    "#Class of AgglomerativeClustering providing the option to use single, complete and average linkage\n",
    "\n",
    "class AgglomerativeClustering:\n",
    "    \n",
    "    def __init__(self,n_clusters=2,linkage=\"single\"):\n",
    "        \n",
    "        self.n_clusters = n_clusters\n",
    "        self.linkage = linkage\n",
    "\n",
    "    def fit_predict(self,X):\n",
    "        \n",
    "        n=X.shape[0]     \n",
    "        d=self.d_matrix(X) \n",
    "        cluster=self.get_initial_cluster(n)\n",
    "        s=set(range(n))     \n",
    "        for _ in range(n-self.n_clusters): \n",
    "            p,q=np.unravel_index(np.argmin(d, axis=None), d.shape)\n",
    "            t_set=s-{p,q} \n",
    "            d=self.update_d(d,p,q,t_set,self.linkage) \n",
    "            cluster=self.update_cluster(cluster,p,q) \n",
    "            s=s-{max(p,q)} \n",
    "        decor_l=[]\n",
    "        for v in cluster.values():\n",
    "            decor_l.append(v)\n",
    "        \n",
    "        self.labels_= self.clustertolabels(decor_l)\n",
    "        return self.labels_\n",
    "\n",
    "    def clustertolabels(self,clusters):\n",
    "        \n",
    "        ln = sum([len(c) for c in clusters])\n",
    "        labels = np.zeros(ln,dtype = np.int)\n",
    "        ind = -1\n",
    "        for c in clusters:\n",
    "            ind+=1\n",
    "            for i in c:\n",
    "                labels[i] = ind\n",
    "        return labels\n",
    "\n",
    "\n",
    "    def d_matrix(self,data):\n",
    "        \n",
    "        n=data.shape[0]  \n",
    "        d=np.empty(shape=[n,n]) \n",
    "        d.fill(np.inf)  \n",
    "        for i in range(n-1):\n",
    "            for j in range(i+1,n):\n",
    "                d[i,j]=distance(data[i],data[j]) \n",
    "        return d\n",
    "\n",
    "    \n",
    "    def get_initial_cluster(self,n):\n",
    "        \n",
    "        c={}\n",
    "        for i in range(n):\n",
    "            c[i]={i}   \n",
    "        return c\n",
    "\n",
    "   \n",
    "    def update_d(self,d,p,q,t_set,linkage):\n",
    "        \n",
    "        for i in t_set: \n",
    "            \n",
    "            u,v=min(i,p),max(i,p) \n",
    "            w,x=min(i,q),max(i,q)\n",
    "            if(linkage==\"complete\"):\n",
    "                t=max(d[u,v],d[w,x])\n",
    "            elif(linkage==\"average\"):\n",
    "                t=(d[u,v]+d[w,x])/2\n",
    "            else:     \n",
    "                t=min(d[u,v],d[w,x])\n",
    "        \n",
    "            d[u,v]=t\n",
    "            d[w,x]=t\n",
    "            \n",
    "        m_pq=max(p,q)\n",
    "        d[m_pq,:]=np.inf\n",
    "        d[:,m_pq]=np.inf\n",
    "        return d\n",
    "\n",
    "\n",
    "    def update_cluster(self,c,p,q):\n",
    "        \n",
    "        i=c.pop(max(p,q)) \n",
    "        m=min(p,q)\n",
    "        c[m]=c[m].union(i) \n",
    "        return c"
   ]
  },
  {
   "cell_type": "code",
   "execution_count": 3,
   "id": "64c50302",
   "metadata": {},
   "outputs": [],
   "source": [
    "# Distance function calculates the distance using eucledian distance\n",
    "# Dataset_minmax function calculates the min and max of the dataset\n",
    "# Normalize_dataset function normalizes the dataset between values 0 and 1\n",
    "\n",
    "def distance(pt1,pt2):\n",
    "\n",
    "        if(len(pt1)!=len(pt2)):\n",
    "            print(\"Dimensions of the points are not equal\")\n",
    "            return  \n",
    "        dim=len(pt1)  \n",
    "        s=0\n",
    "        for i in range(dim):\n",
    "            s+=(pt1[i]-pt2[i])**2 \n",
    "        dist=np.sqrt(s)  \n",
    "        return dist\n",
    "\n",
    "def dataset_minmax(dataset):\n",
    "    minmax = list()\n",
    "    for i in range(len(dataset[0])):\n",
    "        col_values = [row[i] for row in dataset]\n",
    "        value_min = min(col_values)\n",
    "        value_max = max(col_values)\n",
    "        minmax.append([value_min, value_max])\n",
    "    return minmax\n",
    "\n",
    "def normalize_dataset(dataset, minmax):\n",
    "    for row in dataset:\n",
    "        for i in range(len(row)):\n",
    "            row[i] = (row[i] - minmax[i][0]) / (minmax[i][1] - minmax[i][0])"
   ]
  },
  {
   "cell_type": "code",
   "execution_count": 4,
   "id": "1dcd9306",
   "metadata": {},
   "outputs": [],
   "source": [
    "df = pd.read_csv(\"data2c.csv\")\n",
    "df['Class'].replace([' M', ' W'], [1,0], inplace=True)\n",
    "labels = df['Class'].values\n",
    "df = df.iloc[:,:-1]\n",
    "data = df.values\n",
    "# Normalized data\n",
    "minmax = dataset_minmax(data)\n",
    "normalize_dataset(data, minmax) "
   ]
  },
  {
   "attachments": {},
   "cell_type": "markdown",
   "id": "9f4a1898",
   "metadata": {},
   "source": [
    "### Applied hierarchical clustering implementation with single (minimum) linkage to the data. Choose the case of 2, 4, 6, and 8 clusters, evaluated to what degree the clusters reflect the gender distinctions in this data by evaluating the purity of the clusters using the original data labels. For this, computed the accuracy for each cluster assuming that the predicted label for each cluster is the most frequently occurring label in this cluster. computed the overall accuracy using the corresponding number of clusters as the weighted sum of the accuracies where the weight is the fraction of data points in the corresponding cluster."
   ]
  },
  {
   "cell_type": "code",
   "execution_count": 5,
   "id": "2ebed38a",
   "metadata": {},
   "outputs": [
    {
     "name": "stdout",
     "output_type": "stream",
     "text": [
      "Accuracy for n = 2 clusters using single linkage : 0.5666666666666667 \n",
      "Accuracy for n = 4 clusters using single linkage : 0.5666666666666665 \n",
      "Accuracy for n = 6 clusters using single linkage : 0.5749999999999998 \n",
      "Accuracy for n = 8 clusters using single linkage : 0.5749999999999998 \n"
     ]
    }
   ],
   "source": [
    "n_clusters = [2,4,6,8]\n",
    "accuracy_clusters = []\n",
    "for j in n_clusters:\n",
    "    clustering = AgglomerativeClustering(n_clusters=j,linkage=\"single\")\n",
    "    pred_clusters = clustering.fit_predict(data)\n",
    "    \n",
    "    weighted_acc = []\n",
    "    for i in np.unique(pred_clusters):  #Loop for a particular cluster i.e [0,1] if n_clusters = 2  \n",
    "        indexes = np.where(pred_clusters == i)  #List of indexes where the Clusters predicted has particular value\n",
    "        arr = [labels[i] for i in indexes]  #Array of the labels w.r.t to the indexes \n",
    "        max(np.unique(arr, return_counts=True)[1])  #Maximun of the labels that the data points with particular cluster label has\n",
    "        accuracy_cluster = max(np.unique(arr, return_counts=True)[1])/len(arr[0])  #Accuracy for each cluster assuming the predicted label for each cluster is most frequently occuring label in the cluster\n",
    "        weighted_cluster_accuracy = (accuracy_cluster*len(arr[0]))/(len(pred_clusters))\n",
    "        weighted_acc.append(weighted_cluster_accuracy)\n",
    "    accuracy_clusters.append(sum(weighted_acc))  #Overall Accuracy using the corresponding number clusters as the weighted sum of the accuracies where weigth is the fraction of data points in the corresponding cluster\n",
    "    print(f\"Accuracy for n = {j} clusters using single linkage : {accuracy_clusters[n_clusters.index(j)]} \")"
   ]
  },
  {
   "attachments": {},
   "cell_type": "markdown",
   "id": "d77d1eb9",
   "metadata": {},
   "source": [
    "### Repeated the clustering and evaluation using complete (maximum) linkage."
   ]
  },
  {
   "cell_type": "code",
   "execution_count": 6,
   "id": "7c6cdd28",
   "metadata": {},
   "outputs": [
    {
     "name": "stdout",
     "output_type": "stream",
     "text": [
      "Accuracy for n = 2 clusters using complete linkage : 0.7749999999999999 \n",
      "Accuracy for n = 4 clusters using complete linkage : 0.775 \n",
      "Accuracy for n = 6 clusters using complete linkage : 0.775 \n",
      "Accuracy for n = 8 clusters using complete linkage : 0.7750000000000001 \n"
     ]
    }
   ],
   "source": [
    "n_clusters = [2,4,6,8]\n",
    "accuracy_clusters = []\n",
    "for j in n_clusters:\n",
    "    clustering = AgglomerativeClustering(n_clusters=j,linkage=\"complete\")\n",
    "    pred_clusters = clustering.fit_predict(data)\n",
    "    \n",
    "    weighted_acc = []\n",
    "    for i in np.unique(pred_clusters):\n",
    "        indexes = np.where(pred_clusters == i)\n",
    "        arr = [labels[i] for i in indexes]\n",
    "        max(np.unique(arr, return_counts=True)[1])\n",
    "        accuracy_cluster = max(np.unique(arr, return_counts=True)[1])/len(arr[0])\n",
    "        weighted_cluster_accuracy = (accuracy_cluster*len(arr[0]))/(len(pred_clusters))\n",
    "        weighted_acc.append(weighted_cluster_accuracy)\n",
    "    accuracy_clusters.append(sum(weighted_acc))\n",
    "    print(f\"Accuracy for n = {j} clusters using complete linkage : {accuracy_clusters[n_clusters.index(j)]} \")"
   ]
  }
 ],
 "metadata": {
  "kernelspec": {
   "display_name": "Python 3",
   "language": "python",
   "name": "python3"
  },
  "language_info": {
   "codemirror_mode": {
    "name": "ipython",
    "version": 3
   },
   "file_extension": ".py",
   "mimetype": "text/x-python",
   "name": "python",
   "nbconvert_exporter": "python",
   "pygments_lexer": "ipython3",
   "version": "3.8.8"
  }
 },
 "nbformat": 4,
 "nbformat_minor": 5
}
